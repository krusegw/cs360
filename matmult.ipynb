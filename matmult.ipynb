{
  "cells": [
    {
      "cell_type": "code",
      "execution_count": 1,
      "id": "731e4680",
      "metadata": {
        "id": "731e4680"
      },
      "outputs": [],
      "source": [
        "import numpy as np\n",
        "import time\n",
        "from numba import njit, prange\n",
        "import tensorflow as tf\n",
        "import torch"
      ]
    },
    {
      "cell_type": "markdown",
      "id": "0385ac4f",
      "metadata": {
        "id": "0385ac4f"
      },
      "source": [
        "# Create two random matrices"
      ]
    },
    {
      "cell_type": "code",
      "execution_count": 8,
      "id": "632b0cca",
      "metadata": {
        "id": "632b0cca"
      },
      "outputs": [],
      "source": [
        "N=200\n",
        "matrix1 = np.random.rand(N, N)\n",
        "matrix2 = np.random.rand(N, N)"
      ]
    },
    {
      "cell_type": "markdown",
      "id": "bb7dd77f",
      "metadata": {
        "id": "bb7dd77f"
      },
      "source": [
        "# Naive method"
      ]
    },
    {
      "cell_type": "code",
      "execution_count": 18,
      "id": "51439518",
      "metadata": {
        "id": "51439518",
        "outputId": "b7fa03c5-c926-45b4-ac3a-6b4012dc087b",
        "colab": {
          "base_uri": "https://localhost:8080/"
        }
      },
      "outputs": [
        {
          "output_type": "stream",
          "name": "stdout",
          "text": [
            "Time taken for matrix multiplication using nested loops: 10.413262367248535 seconds\n"
          ]
        }
      ],
      "source": [
        "# Initialize the result matrix with zeros\n",
        "result = np.zeros((matrix1.shape[0], matrix2.shape[1]))\n",
        "\n",
        "# Perform matrix multiplication using nested loops\n",
        "start_time = time.time()\n",
        "\n",
        "for i in range(matrix1.shape[0]):\n",
        "    for j in range(matrix2.shape[1]):\n",
        "        for k in range(matrix1.shape[1]):\n",
        "            result[i][j] += matrix1[i][k] * matrix2[k][j]\n",
        "\n",
        "end_time = time.time()\n",
        "print(\"Time taken for matrix multiplication using nested loops:\", end_time - start_time, \"seconds\")\n"
      ]
    },
    {
      "cell_type": "markdown",
      "id": "c86e8da0",
      "metadata": {
        "id": "c86e8da0"
      },
      "source": [
        "# Using jit compilation (and cpu cores)"
      ]
    },
    {
      "cell_type": "code",
      "execution_count": 19,
      "id": "fde9f5aa",
      "metadata": {
        "id": "fde9f5aa",
        "outputId": "47a01d09-12e0-46ab-ba84-48fc5a0e3636",
        "colab": {
          "base_uri": "https://localhost:8080/"
        }
      },
      "outputs": [
        {
          "output_type": "stream",
          "name": "stdout",
          "text": [
            "Time taken for matrix multiplication using Numba: 0.9600110054016113 seconds\n"
          ]
        }
      ],
      "source": [
        "@njit(parallel=True)\n",
        "def matrix_multiply_numba(matrix1, matrix2):\n",
        "    result = np.zeros((matrix1.shape[0], matrix2.shape[1]))\n",
        "    for i in prange(matrix1.shape[0]):\n",
        "        for j in range(matrix2.shape[1]):\n",
        "            for k in range(matrix1.shape[1]):\n",
        "                result[i, j] += matrix1[i, k] * matrix2[k, j]\n",
        "    return result\n",
        "\n",
        "# Perform matrix multiplication using Numba\n",
        "start_time = time.time()\n",
        "result_numba = matrix_multiply_numba(matrix1, matrix2)\n",
        "end_time = time.time()\n",
        "\n",
        "print(\"Time taken for matrix multiplication using Numba:\", end_time - start_time, \"seconds\")"
      ]
    },
    {
      "cell_type": "markdown",
      "id": "216378d7",
      "metadata": {
        "id": "216378d7"
      },
      "source": [
        "# Using tensorflow"
      ]
    },
    {
      "cell_type": "code",
      "execution_count": 16,
      "id": "ee0004f0",
      "metadata": {
        "id": "ee0004f0",
        "outputId": "31fa311a-65c9-41ad-b96d-34721cc8ec77",
        "colab": {
          "base_uri": "https://localhost:8080/"
        }
      },
      "outputs": [
        {
          "output_type": "stream",
          "name": "stdout",
          "text": [
            "Time taken for matrix multiplication using TensorFlow: 0.002737760543823242 seconds\n",
            "(200, 200)\n"
          ]
        }
      ],
      "source": [
        "# Convert numpy arrays to TensorFlow tensors\n",
        "matrix1_tf = tf.convert_to_tensor(matrix1, dtype=tf.float32)\n",
        "matrix2_tf = tf.convert_to_tensor(matrix2, dtype=tf.float32)\n",
        "\n",
        "# Perform matrix multiplication\n",
        "start_time = time.time()\n",
        "result_tf = tf.matmul(matrix1_tf, matrix2_tf)\n",
        "end_time = time.time()\n",
        "\n",
        "print(\"Time taken for matrix multiplication using TensorFlow:\", end_time - start_time, \"seconds\")\n",
        "\n",
        "print (result_tf.numpy().shape)\n"
      ]
    }
  ],
  "metadata": {
    "kernelspec": {
      "display_name": "ai",
      "language": "python",
      "name": "python3"
    },
    "language_info": {
      "codemirror_mode": {
        "name": "ipython",
        "version": 3
      },
      "file_extension": ".py",
      "mimetype": "text/x-python",
      "name": "python",
      "nbconvert_exporter": "python",
      "pygments_lexer": "ipython3",
      "version": "3.10.13"
    },
    "colab": {
      "provenance": []
    }
  },
  "nbformat": 4,
  "nbformat_minor": 5
}